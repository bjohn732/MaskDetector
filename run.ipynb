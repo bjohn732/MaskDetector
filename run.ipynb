{
 "cells": [
  {
   "cell_type": "code",
   "execution_count": 1,
   "id": "979f3230",
   "metadata": {},
   "outputs": [],
   "source": [
    "# Importing libraries and preparing the model\n",
    "import cv2\n",
    "import numpy as np\n",
    "from keras.models import load_model\n",
    "model=load_model(\"./model-010.model\")  # load the model with the best performance"
   ]
  },
  {
   "cell_type": "code",
   "execution_count": 2,
   "id": "164601db",
   "metadata": {},
   "outputs": [],
   "source": [
    "# Set indicators and haarcascade file\n",
    "indicators={0:'No mask detected',1:'Mask detected!'}\n",
    "color_dict={0:(0,0,255),1:(0,255,0)}\n",
    "\n",
    "size = 4\n",
    "cam = cv2.VideoCapture(0) # Define video capture object\n",
    "\n",
    "# We load the xml file\n",
    "classifier = cv2.CascadeClassifier(r\"C:\\Users\\User\\AppData\\Local\\Packages\\PythonSoftwareFoundation.Python.3.8_qbz5n2kfra8p0\\LocalCache\\local-packages\\Python38\\site-packages\\cv2\\data\\haarcascade_frontalface_default.xml\")\n",
    "\n",
    "# Run the program\n",
    "while True:\n",
    "    \n",
    "    # Capture video frame by frame (infinite while loop)\n",
    "    (rval, frame) = cam.read()\n",
    "    frame = cv2.flip(frame, 1, 1) # Flip 2D array (like a mirror)\n",
    "\n",
    "    # Resize the image to speed up detection\n",
    "    mini = cv2.resize(frame, (frame.shape[1] // size, frame.shape[0] // size))\n",
    "\n",
    "    # Detect MultiScale / faces \n",
    "    faces = classifier.detectMultiScale(mini)\n",
    "\n",
    "    # Draw rectangles around each face\n",
    "    for f in faces:\n",
    "        (x, y, w, h) = [v * size for v in f] # Scale the shapesize backup\n",
    "        # Save just the rectangle faces in SubRecFaces\n",
    "        face_img = frame[y:y+h, x:x+w]\n",
    "        resized=cv2.resize(face_img,(150,150))\n",
    "        normalized=resized/255.0\n",
    "        reshaped=np.reshape(normalized,(1,150,150,3))\n",
    "        reshaped = np.vstack([reshaped])\n",
    "        result=model.predict(reshaped)\n",
    "        \n",
    "        label=np.argmax(result,axis=1)[0]\n",
    "      \n",
    "        # Defining the label details\n",
    "        cv2.rectangle(frame,(x,y),(x+w,y+h),color_dict[label],2)\n",
    "        cv2.rectangle(frame,(x,y-40),(x+w,y),color_dict[label],-1)\n",
    "        cv2.putText(frame, indicators[label], (x, y-10),cv2.FONT_HERSHEY_SIMPLEX,0.8,(255,255,255),2)\n",
    "        \n",
    "    # Show the image\n",
    "    cv2.imshow('LIVE', frame)\n",
    "    key = cv2.waitKey(10)\n",
    "\n",
    "    # Break out of the loop when pressing Esc\n",
    "    if key == 27: # ASCII code for Esc\n",
    "        break\n",
    "\n",
    "# Stop video\n",
    "cam.release()\n",
    "\n",
    "# Close all started windows\n",
    "cv2.destroyAllWindows()"
   ]
  },
  {
   "cell_type": "code",
   "execution_count": 4,
   "id": "9ef036d4",
   "metadata": {},
   "outputs": [],
   "source": [
    "# In case LED stays on\n",
    "cam.release()"
   ]
  }
 ],
 "metadata": {
  "kernelspec": {
   "display_name": "Python 3 (ipykernel)",
   "language": "python",
   "name": "python3"
  },
  "language_info": {
   "codemirror_mode": {
    "name": "ipython",
    "version": 3
   },
   "file_extension": ".py",
   "mimetype": "text/x-python",
   "name": "python",
   "nbconvert_exporter": "python",
   "pygments_lexer": "ipython3",
   "version": "3.8.10"
  }
 },
 "nbformat": 4,
 "nbformat_minor": 5
}
