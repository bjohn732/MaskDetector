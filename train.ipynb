{
 "cells": [
  {
   "cell_type": "code",
   "execution_count": 22,
   "metadata": {},
   "outputs": [],
   "source": [
    "# Import libraries\n",
    "from tensorflow.keras.optimizers import RMSprop\n",
    "from keras.preprocessing.image import ImageDataGenerator\n",
    "import cv2\n",
    "from keras.models import Sequential\n",
    "from keras.layers import Conv2D, Input, ZeroPadding2D, BatchNormalization, Activation, MaxPooling2D, Flatten, Dense,Dropout\n",
    "from keras.models import Model, load_model\n",
    "from keras.callbacks import TensorBoard, ModelCheckpoint\n",
    "from sklearn.model_selection import train_test_split\n",
    "from sklearn.metrics import f1_score\n",
    "from sklearn.utils import shuffle\n",
    "import imutils\n",
    "import numpy as np"
   ]
  },
  {
   "cell_type": "code",
   "execution_count": 30,
   "metadata": {},
   "outputs": [],
   "source": [
    "# Building the neural network\n",
    "model = Sequential([\n",
    "    Conv2D(100, (3,3), activation='relu', input_shape=(150, 150, 3)),\n",
    "    MaxPooling2D(2,2),\n",
    "    \n",
    "    Conv2D(100, (3,3), activation='relu'),\n",
    "    MaxPooling2D(2,2),\n",
    "    \n",
    "    Flatten(),       # converts data into 1D\n",
    "    Dropout(0.5),    # sets input units to 0 during training time -> helps prevent overfitting\n",
    "\n",
    "    Dense(50, activation='relu'), # dense layers for classification\n",
    "    Dense(2, activation='softmax')\n",
    "])\n",
    "\n",
    "model.compile(optimizer='adam', loss='binary_crossentropy', metrics=['accuracy'])"
   ]
  },
  {
   "cell_type": "code",
   "execution_count": 31,
   "metadata": {},
   "outputs": [
    {
     "name": "stdout",
     "output_type": "stream",
     "text": [
      "Found 7330 images belonging to 2 classes.\n",
      "Found 2090 images belonging to 2 classes.\n"
     ]
    }
   ],
   "source": [
    "# Data generation & augmentation\n",
    "TRAINING_DIR = \"./train\"\n",
    "train_datagen = ImageDataGenerator(rescale=1./255,\n",
    "                                   rotation_range=40,\n",
    "                                   width_shift_range=0.2,\n",
    "                                   height_shift_range=0.2,\n",
    "                                   shear_range=0.2,\n",
    "                                   zoom_range=0.2,\n",
    "                                   horizontal_flip=True,\n",
    "                                   fill_mode='nearest')\n",
    "\n",
    "train_generator = train_datagen.flow_from_directory(TRAINING_DIR,\n",
    "                                                    batch_size=64,\n",
    "                                                    target_size=(150,150))\n",
    "\n",
    "TEST_DIR = \"./test\"\n",
    "test_datagen = ImageDataGenerator(rescale=1./255)\n",
    "\n",
    "test_generator = test_datagen.flow_from_directory(TEST_DIR,\n",
    "                                                  batch_size=64,\n",
    "                                                  target_size=(150,150))"
   ]
  },
  {
   "cell_type": "code",
   "execution_count": 32,
   "metadata": {},
   "outputs": [],
   "source": [
    "# Preparing model checkpoint\n",
    "checkpt = ModelCheckpoint('model-{epoch:03d}.model', monitor='val_loss', verbose=0, save_best_only=True, mode='auto')"
   ]
  },
  {
   "cell_type": "code",
   "execution_count": 33,
   "metadata": {},
   "outputs": [
    {
     "name": "stdout",
     "output_type": "stream",
     "text": [
      "Epoch 1/10\n",
      "115/115 [==============================] - 302s 3s/step - loss: 0.3118 - accuracy: 0.8759 - val_loss: 0.1509 - val_accuracy: 0.9435\n",
      "INFO:tensorflow:Assets written to: model-001.model\\assets\n",
      "Epoch 2/10\n",
      "115/115 [==============================] - 293s 3s/step - loss: 0.2242 - accuracy: 0.9151 - val_loss: 0.1264 - val_accuracy: 0.9502\n",
      "INFO:tensorflow:Assets written to: model-002.model\\assets\n",
      "Epoch 3/10\n",
      "115/115 [==============================] - 297s 3s/step - loss: 0.1967 - accuracy: 0.9246 - val_loss: 0.1136 - val_accuracy: 0.9565\n",
      "INFO:tensorflow:Assets written to: model-003.model\\assets\n",
      "Epoch 4/10\n",
      "115/115 [==============================] - 326s 3s/step - loss: 0.2033 - accuracy: 0.9261 - val_loss: 0.1106 - val_accuracy: 0.9617\n",
      "INFO:tensorflow:Assets written to: model-004.model\\assets\n",
      "Epoch 5/10\n",
      "115/115 [==============================] - 306s 3s/step - loss: 0.1852 - accuracy: 0.9323 - val_loss: 0.0952 - val_accuracy: 0.9699\n",
      "INFO:tensorflow:Assets written to: model-005.model\\assets\n",
      "Epoch 6/10\n",
      "115/115 [==============================] - 287s 2s/step - loss: 0.1819 - accuracy: 0.9314 - val_loss: 0.1015 - val_accuracy: 0.9598\n",
      "Epoch 7/10\n",
      "115/115 [==============================] - 295s 3s/step - loss: 0.1748 - accuracy: 0.9375 - val_loss: 0.0974 - val_accuracy: 0.9617\n",
      "Epoch 8/10\n",
      "115/115 [==============================] - 307s 3s/step - loss: 0.1684 - accuracy: 0.9349 - val_loss: 0.0929 - val_accuracy: 0.9689\n",
      "INFO:tensorflow:Assets written to: model-008.model\\assets\n",
      "Epoch 9/10\n",
      "115/115 [==============================] - 297s 3s/step - loss: 0.1806 - accuracy: 0.9308 - val_loss: 0.1155 - val_accuracy: 0.9612\n",
      "Epoch 10/10\n",
      "115/115 [==============================] - 298s 3s/step - loss: 0.1659 - accuracy: 0.9382 - val_loss: 0.0909 - val_accuracy: 0.9732\n",
      "INFO:tensorflow:Assets written to: model-010.model\\assets\n"
     ]
    }
   ],
   "source": [
    "# Train model\n",
    "history = model.fit_generator(train_generator,\n",
    "                              epochs=10,\n",
    "                              validation_data=test_generator,\n",
    "                              callbacks=[checkpt])"
   ]
  },
  {
   "cell_type": "code",
   "execution_count": null,
   "metadata": {},
   "outputs": [],
   "source": []
  }
 ],
 "metadata": {
  "kernelspec": {
   "display_name": "Python 3 (ipykernel)",
   "language": "python",
   "name": "python3"
  },
  "language_info": {
   "codemirror_mode": {
    "name": "ipython",
    "version": 3
   },
   "file_extension": ".py",
   "mimetype": "text/x-python",
   "name": "python",
   "nbconvert_exporter": "python",
   "pygments_lexer": "ipython3",
   "version": "3.8.10"
  }
 },
 "nbformat": 4,
 "nbformat_minor": 2
}
